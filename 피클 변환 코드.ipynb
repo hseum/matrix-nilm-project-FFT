{
 "cells": [
  {
   "cell_type": "code",
   "execution_count": 1,
   "id": "4f2cd699",
   "metadata": {},
   "outputs": [],
   "source": [
    "# ── 필수 모듈 ────────────────────────────────────────────────\n",
    "from pathlib import Path\n",
    "import json\n",
    "import pandas as pd\n",
    "from darts import TimeSeries\n",
    "from tqdm import tqdm       # 진행률 표시(선택)\n",
    "\n",
    "# ── 폴더 위치 지정 ───────────────────────────────────────────\n",
    "PROJECT_ROOT = Path(\"matrix-nilm-test\") / \"matrix-nilm-test\"   # 루트 폴더\n",
    "CSV_ROOT  = PROJECT_ROOT / \"csv\"\n",
    "JSON_ROOT = PROJECT_ROOT / \"json\"\n",
    "SAVE_DIR  = PROJECT_ROOT / \"ts_pickle\"\n",
    "SAVE_DIR.mkdir(parents=True, exist_ok=True)\n"
   ]
  },
  {
   "cell_type": "code",
   "execution_count": 2,
   "id": "d757b1a2",
   "metadata": {},
   "outputs": [
    {
     "name": "stderr",
     "output_type": "stream",
     "text": [
      "  0%|          | 0/167 [00:00<?, ?it/s]"
     ]
    },
    {
     "name": "stdout",
     "output_type": "stream",
     "text": [
      "[SKIP] matrix-nilm-test\\matrix-nilm-test\\csv\\house_001\\H001_ch01_20230924.csv → JSON 없음\n"
     ]
    },
    {
     "name": "stderr",
     "output_type": "stream",
     "text": [
      "  1%|          | 2/167 [00:02<03:49,  1.39s/it]"
     ]
    },
    {
     "name": "stdout",
     "output_type": "stream",
     "text": [
      "[SKIP] matrix-nilm-test\\matrix-nilm-test\\csv\\house_001\\H001_ch02_20230924.csv → JSON 없음\n"
     ]
    },
    {
     "name": "stderr",
     "output_type": "stream",
     "text": [
      "  2%|▏         | 4/167 [00:05<03:38,  1.34s/it]"
     ]
    },
    {
     "name": "stdout",
     "output_type": "stream",
     "text": [
      "[SKIP] matrix-nilm-test\\matrix-nilm-test\\csv\\house_001\\H001_ch03_20230924.csv → JSON 없음\n"
     ]
    },
    {
     "name": "stderr",
     "output_type": "stream",
     "text": [
      "  4%|▎         | 6/167 [00:08<03:34,  1.33s/it]"
     ]
    },
    {
     "name": "stdout",
     "output_type": "stream",
     "text": [
      "[SKIP] matrix-nilm-test\\matrix-nilm-test\\csv\\house_001\\H001_ch04_20230924.csv → JSON 없음\n"
     ]
    },
    {
     "name": "stderr",
     "output_type": "stream",
     "text": [
      "  5%|▍         | 8/167 [00:10<03:28,  1.31s/it]"
     ]
    },
    {
     "name": "stdout",
     "output_type": "stream",
     "text": [
      "[SKIP] matrix-nilm-test\\matrix-nilm-test\\csv\\house_001\\H001_ch05_20230924.csv → JSON 없음\n"
     ]
    },
    {
     "name": "stderr",
     "output_type": "stream",
     "text": [
      "  6%|▌         | 10/167 [00:13<03:31,  1.35s/it]"
     ]
    },
    {
     "name": "stdout",
     "output_type": "stream",
     "text": [
      "[WARN] matrix-nilm-test\\matrix-nilm-test\\json\\house_001\\H001_ch05_20231002.json : active_inactive 라벨 없음 → 전부 0\n",
      "[SKIP] matrix-nilm-test\\matrix-nilm-test\\csv\\house_001\\H001_ch06_20230924.csv → JSON 없음\n"
     ]
    },
    {
     "name": "stderr",
     "output_type": "stream",
     "text": [
      "  7%|▋         | 12/167 [00:16<03:29,  1.35s/it]"
     ]
    },
    {
     "name": "stdout",
     "output_type": "stream",
     "text": [
      "[WARN] matrix-nilm-test\\matrix-nilm-test\\json\\house_001\\H001_ch06_20231002.json : active_inactive 라벨 없음 → 전부 0\n",
      "[SKIP] matrix-nilm-test\\matrix-nilm-test\\csv\\house_001\\H001_ch07_20230924.csv → JSON 없음\n"
     ]
    },
    {
     "name": "stderr",
     "output_type": "stream",
     "text": [
      "  8%|▊         | 14/167 [00:18<03:20,  1.31s/it]"
     ]
    },
    {
     "name": "stdout",
     "output_type": "stream",
     "text": [
      "[SKIP] matrix-nilm-test\\matrix-nilm-test\\csv\\house_001\\H001_ch09_20230924.csv → JSON 없음\n"
     ]
    },
    {
     "name": "stderr",
     "output_type": "stream",
     "text": [
      " 10%|▉         | 16/167 [00:21<03:17,  1.31s/it]"
     ]
    },
    {
     "name": "stdout",
     "output_type": "stream",
     "text": [
      "[SKIP] matrix-nilm-test\\matrix-nilm-test\\csv\\house_001\\H001_ch10_20230924.csv → JSON 없음\n"
     ]
    },
    {
     "name": "stderr",
     "output_type": "stream",
     "text": [
      " 11%|█         | 18/167 [00:23<03:12,  1.29s/it]"
     ]
    },
    {
     "name": "stdout",
     "output_type": "stream",
     "text": [
      "[SKIP] matrix-nilm-test\\matrix-nilm-test\\csv\\house_001\\H001_ch17_20230924.csv → JSON 없음\n"
     ]
    },
    {
     "name": "stderr",
     "output_type": "stream",
     "text": [
      " 12%|█▏        | 20/167 [00:26<03:11,  1.30s/it]"
     ]
    },
    {
     "name": "stdout",
     "output_type": "stream",
     "text": [
      "[WARN] matrix-nilm-test\\matrix-nilm-test\\json\\house_001\\H001_ch17_20231002.json : active_inactive 라벨 없음 → 전부 0\n",
      "[SKIP] matrix-nilm-test\\matrix-nilm-test\\csv\\house_001\\H001_ch20_20230924.csv → JSON 없음\n"
     ]
    },
    {
     "name": "stderr",
     "output_type": "stream",
     "text": [
      " 13%|█▎        | 22/167 [00:28<03:07,  1.29s/it]"
     ]
    },
    {
     "name": "stdout",
     "output_type": "stream",
     "text": [
      "[WARN] matrix-nilm-test\\matrix-nilm-test\\json\\house_001\\H001_ch20_20231002.json : active_inactive 라벨 없음 → 전부 0\n",
      "[SKIP] matrix-nilm-test\\matrix-nilm-test\\csv\\house_001\\H001_ch21_20230924.csv → JSON 없음\n"
     ]
    },
    {
     "name": "stderr",
     "output_type": "stream",
     "text": [
      " 14%|█▍        | 24/167 [00:31<03:10,  1.33s/it]"
     ]
    },
    {
     "name": "stdout",
     "output_type": "stream",
     "text": [
      "[SKIP] matrix-nilm-test\\matrix-nilm-test\\csv\\house_001\\H001_ch23_20230924.csv → JSON 없음\n"
     ]
    },
    {
     "name": "stderr",
     "output_type": "stream",
     "text": [
      " 16%|█▌        | 26/167 [00:34<03:07,  1.33s/it]"
     ]
    },
    {
     "name": "stdout",
     "output_type": "stream",
     "text": [
      "[SKIP] matrix-nilm-test\\matrix-nilm-test\\csv\\house_002\\H002_ch01_20230924.csv → JSON 없음\n"
     ]
    },
    {
     "name": "stderr",
     "output_type": "stream",
     "text": [
      " 17%|█▋        | 28/167 [00:37<03:04,  1.33s/it]"
     ]
    },
    {
     "name": "stdout",
     "output_type": "stream",
     "text": [
      "[SKIP] matrix-nilm-test\\matrix-nilm-test\\csv\\house_002\\H002_ch02_20230924.csv → JSON 없음\n"
     ]
    },
    {
     "name": "stderr",
     "output_type": "stream",
     "text": [
      " 18%|█▊        | 30/167 [00:39<03:00,  1.32s/it]"
     ]
    },
    {
     "name": "stdout",
     "output_type": "stream",
     "text": [
      "[SKIP] matrix-nilm-test\\matrix-nilm-test\\csv\\house_002\\H002_ch03_20230924.csv → JSON 없음\n"
     ]
    },
    {
     "name": "stderr",
     "output_type": "stream",
     "text": [
      " 19%|█▉        | 32/167 [00:42<02:54,  1.29s/it]"
     ]
    },
    {
     "name": "stdout",
     "output_type": "stream",
     "text": [
      "[SKIP] matrix-nilm-test\\matrix-nilm-test\\csv\\house_002\\H002_ch04_20230924.csv → JSON 없음\n"
     ]
    },
    {
     "name": "stderr",
     "output_type": "stream",
     "text": [
      " 20%|██        | 34/167 [00:44<02:51,  1.29s/it]"
     ]
    },
    {
     "name": "stdout",
     "output_type": "stream",
     "text": [
      "[WARN] matrix-nilm-test\\matrix-nilm-test\\json\\house_002\\H002_ch04_20231002.json : active_inactive 라벨 없음 → 전부 0\n",
      "[SKIP] matrix-nilm-test\\matrix-nilm-test\\csv\\house_002\\H002_ch05_20230924.csv → JSON 없음\n"
     ]
    },
    {
     "name": "stderr",
     "output_type": "stream",
     "text": [
      " 22%|██▏       | 36/167 [00:47<02:47,  1.28s/it]"
     ]
    },
    {
     "name": "stdout",
     "output_type": "stream",
     "text": [
      "[SKIP] matrix-nilm-test\\matrix-nilm-test\\csv\\house_002\\H002_ch06_20230924.csv → JSON 없음\n"
     ]
    },
    {
     "name": "stderr",
     "output_type": "stream",
     "text": [
      " 23%|██▎       | 38/167 [00:49<02:44,  1.28s/it]"
     ]
    },
    {
     "name": "stdout",
     "output_type": "stream",
     "text": [
      "[WARN] matrix-nilm-test\\matrix-nilm-test\\json\\house_002\\H002_ch06_20231002.json : active_inactive 라벨 없음 → 전부 0\n",
      "[SKIP] matrix-nilm-test\\matrix-nilm-test\\csv\\house_002\\H002_ch07_20230924.csv → JSON 없음\n"
     ]
    },
    {
     "name": "stderr",
     "output_type": "stream",
     "text": [
      " 24%|██▍       | 40/167 [00:52<02:40,  1.27s/it]"
     ]
    },
    {
     "name": "stdout",
     "output_type": "stream",
     "text": [
      "[SKIP] matrix-nilm-test\\matrix-nilm-test\\csv\\house_002\\H002_ch09_20230924.csv → JSON 없음\n"
     ]
    },
    {
     "name": "stderr",
     "output_type": "stream",
     "text": [
      " 25%|██▌       | 42/167 [00:54<02:37,  1.26s/it]"
     ]
    },
    {
     "name": "stdout",
     "output_type": "stream",
     "text": [
      "[SKIP] matrix-nilm-test\\matrix-nilm-test\\csv\\house_002\\H002_ch10_20230924.csv → JSON 없음\n"
     ]
    },
    {
     "name": "stderr",
     "output_type": "stream",
     "text": [
      " 26%|██▋       | 44/167 [00:57<02:34,  1.26s/it]"
     ]
    },
    {
     "name": "stdout",
     "output_type": "stream",
     "text": [
      "[WARN] matrix-nilm-test\\matrix-nilm-test\\json\\house_002\\H002_ch10_20231002.json : active_inactive 라벨 없음 → 전부 0\n",
      "[SKIP] matrix-nilm-test\\matrix-nilm-test\\csv\\house_002\\H002_ch13_20230924.csv → JSON 없음\n"
     ]
    },
    {
     "name": "stderr",
     "output_type": "stream",
     "text": [
      " 28%|██▊       | 46/167 [00:59<02:32,  1.26s/it]"
     ]
    },
    {
     "name": "stdout",
     "output_type": "stream",
     "text": [
      "[WARN] matrix-nilm-test\\matrix-nilm-test\\json\\house_002\\H002_ch13_20231002.json : active_inactive 라벨 없음 → 전부 0\n",
      "[SKIP] matrix-nilm-test\\matrix-nilm-test\\csv\\house_002\\H002_ch14_20230924.csv → JSON 없음\n"
     ]
    },
    {
     "name": "stderr",
     "output_type": "stream",
     "text": [
      " 29%|██▊       | 48/167 [01:02<02:30,  1.26s/it]"
     ]
    },
    {
     "name": "stdout",
     "output_type": "stream",
     "text": [
      "[WARN] matrix-nilm-test\\matrix-nilm-test\\json\\house_002\\H002_ch14_20231002.json : active_inactive 라벨 없음 → 전부 0\n",
      "[SKIP] matrix-nilm-test\\matrix-nilm-test\\csv\\house_002\\H002_ch16_20230924.csv → JSON 없음\n"
     ]
    },
    {
     "name": "stderr",
     "output_type": "stream",
     "text": [
      " 30%|██▉       | 50/167 [01:04<02:27,  1.26s/it]"
     ]
    },
    {
     "name": "stdout",
     "output_type": "stream",
     "text": [
      "[WARN] matrix-nilm-test\\matrix-nilm-test\\json\\house_002\\H002_ch16_20231002.json : active_inactive 라벨 없음 → 전부 0\n",
      "[SKIP] matrix-nilm-test\\matrix-nilm-test\\csv\\house_002\\H002_ch18_20230924.csv → JSON 없음\n"
     ]
    },
    {
     "name": "stderr",
     "output_type": "stream",
     "text": [
      " 31%|███       | 52/167 [01:07<02:25,  1.26s/it]"
     ]
    },
    {
     "name": "stdout",
     "output_type": "stream",
     "text": [
      "[SKIP] matrix-nilm-test\\matrix-nilm-test\\csv\\house_002\\H002_ch21_20230924.csv → JSON 없음\n"
     ]
    },
    {
     "name": "stderr",
     "output_type": "stream",
     "text": [
      " 32%|███▏      | 54/167 [01:10<02:29,  1.32s/it]"
     ]
    },
    {
     "name": "stdout",
     "output_type": "stream",
     "text": [
      "[SKIP] matrix-nilm-test\\matrix-nilm-test\\csv\\house_002\\H002_ch22_20230924.csv → JSON 없음\n"
     ]
    },
    {
     "name": "stderr",
     "output_type": "stream",
     "text": [
      " 34%|███▎      | 56/167 [01:13<02:34,  1.39s/it]"
     ]
    },
    {
     "name": "stdout",
     "output_type": "stream",
     "text": [
      "[SKIP] matrix-nilm-test\\matrix-nilm-test\\csv\\house_002\\H002_ch23_20230924.csv → JSON 없음\n"
     ]
    },
    {
     "name": "stderr",
     "output_type": "stream",
     "text": [
      " 35%|███▍      | 58/167 [01:15<02:28,  1.36s/it]"
     ]
    },
    {
     "name": "stdout",
     "output_type": "stream",
     "text": [
      "[WARN] matrix-nilm-test\\matrix-nilm-test\\json\\house_002\\H002_ch23_20231002.json : active_inactive 라벨 없음 → 전부 0\n"
     ]
    },
    {
     "name": "stderr",
     "output_type": "stream",
     "text": [
      " 37%|███▋      | 62/167 [01:26<03:43,  2.13s/it]"
     ]
    },
    {
     "name": "stdout",
     "output_type": "stream",
     "text": [
      "[WARN] matrix-nilm-test\\matrix-nilm-test\\json\\house_003\\H003_ch04_20231002.json : active_inactive 라벨 없음 → 전부 0\n"
     ]
    },
    {
     "name": "stderr",
     "output_type": "stream",
     "text": [
      " 38%|███▊      | 63/167 [01:29<03:55,  2.26s/it]"
     ]
    },
    {
     "name": "stdout",
     "output_type": "stream",
     "text": [
      "[WARN] matrix-nilm-test\\matrix-nilm-test\\json\\house_003\\H003_ch05_20231002.json : active_inactive 라벨 없음 → 전부 0\n"
     ]
    },
    {
     "name": "stderr",
     "output_type": "stream",
     "text": [
      " 40%|████      | 67/167 [01:39<04:13,  2.53s/it]"
     ]
    },
    {
     "name": "stdout",
     "output_type": "stream",
     "text": [
      "[WARN] matrix-nilm-test\\matrix-nilm-test\\json\\house_003\\H003_ch10_20231002.json : active_inactive 라벨 없음 → 전부 0\n"
     ]
    },
    {
     "name": "stderr",
     "output_type": "stream",
     "text": [
      " 41%|████▏     | 69/167 [01:44<04:15,  2.60s/it]"
     ]
    },
    {
     "name": "stdout",
     "output_type": "stream",
     "text": [
      "[WARN] matrix-nilm-test\\matrix-nilm-test\\json\\house_003\\H003_ch14_20231002.json : active_inactive 라벨 없음 → 전부 0\n"
     ]
    },
    {
     "name": "stderr",
     "output_type": "stream",
     "text": [
      " 42%|████▏     | 70/167 [01:47<04:19,  2.68s/it]"
     ]
    },
    {
     "name": "stdout",
     "output_type": "stream",
     "text": [
      "[WARN] matrix-nilm-test\\matrix-nilm-test\\json\\house_003\\H003_ch20_20231002.json : active_inactive 라벨 없음 → 전부 0\n"
     ]
    },
    {
     "name": "stderr",
     "output_type": "stream",
     "text": [
      " 44%|████▎     | 73/167 [01:56<04:15,  2.72s/it]"
     ]
    },
    {
     "name": "stdout",
     "output_type": "stream",
     "text": [
      "[WARN] matrix-nilm-test\\matrix-nilm-test\\json\\house_004\\H004_ch02_20231002.json : active_inactive 라벨 없음 → 전부 0\n"
     ]
    },
    {
     "name": "stderr",
     "output_type": "stream",
     "text": [
      " 44%|████▍     | 74/167 [01:58<04:10,  2.69s/it]"
     ]
    },
    {
     "name": "stdout",
     "output_type": "stream",
     "text": [
      "[WARN] matrix-nilm-test\\matrix-nilm-test\\json\\house_004\\H004_ch03_20231002.json : active_inactive 라벨 없음 → 전부 0\n"
     ]
    },
    {
     "name": "stderr",
     "output_type": "stream",
     "text": [
      " 45%|████▍     | 75/167 [02:01<04:06,  2.68s/it]"
     ]
    },
    {
     "name": "stdout",
     "output_type": "stream",
     "text": [
      "[WARN] matrix-nilm-test\\matrix-nilm-test\\json\\house_004\\H004_ch04_20231002.json : active_inactive 라벨 없음 → 전부 0\n"
     ]
    },
    {
     "name": "stderr",
     "output_type": "stream",
     "text": [
      " 46%|████▌     | 76/167 [02:04<04:02,  2.67s/it]"
     ]
    },
    {
     "name": "stdout",
     "output_type": "stream",
     "text": [
      "[WARN] matrix-nilm-test\\matrix-nilm-test\\json\\house_004\\H004_ch06_20231002.json : active_inactive 라벨 없음 → 전부 0\n"
     ]
    },
    {
     "name": "stderr",
     "output_type": "stream",
     "text": [
      " 46%|████▌     | 77/167 [02:06<04:03,  2.71s/it]"
     ]
    },
    {
     "name": "stdout",
     "output_type": "stream",
     "text": [
      "[WARN] matrix-nilm-test\\matrix-nilm-test\\json\\house_004\\H004_ch07_20231002.json : active_inactive 라벨 없음 → 전부 0\n"
     ]
    },
    {
     "name": "stderr",
     "output_type": "stream",
     "text": [
      " 47%|████▋     | 78/167 [02:09<03:59,  2.69s/it]"
     ]
    },
    {
     "name": "stdout",
     "output_type": "stream",
     "text": [
      "[WARN] matrix-nilm-test\\matrix-nilm-test\\json\\house_004\\H004_ch09_20231002.json : active_inactive 라벨 없음 → 전부 0\n"
     ]
    },
    {
     "name": "stderr",
     "output_type": "stream",
     "text": [
      " 47%|████▋     | 79/167 [02:12<03:59,  2.72s/it]"
     ]
    },
    {
     "name": "stdout",
     "output_type": "stream",
     "text": [
      "[WARN] matrix-nilm-test\\matrix-nilm-test\\json\\house_004\\H004_ch10_20231002.json : active_inactive 라벨 없음 → 전부 0\n"
     ]
    },
    {
     "name": "stderr",
     "output_type": "stream",
     "text": [
      " 48%|████▊     | 80/167 [02:14<03:54,  2.69s/it]"
     ]
    },
    {
     "name": "stdout",
     "output_type": "stream",
     "text": [
      "[WARN] matrix-nilm-test\\matrix-nilm-test\\json\\house_004\\H004_ch11_20231002.json : active_inactive 라벨 없음 → 전부 0\n"
     ]
    },
    {
     "name": "stderr",
     "output_type": "stream",
     "text": [
      " 49%|████▊     | 81/167 [02:17<03:54,  2.73s/it]"
     ]
    },
    {
     "name": "stdout",
     "output_type": "stream",
     "text": [
      "[WARN] matrix-nilm-test\\matrix-nilm-test\\json\\house_004\\H004_ch12_20231002.json : active_inactive 라벨 없음 → 전부 0\n"
     ]
    },
    {
     "name": "stderr",
     "output_type": "stream",
     "text": [
      " 49%|████▉     | 82/167 [02:20<03:51,  2.73s/it]"
     ]
    },
    {
     "name": "stdout",
     "output_type": "stream",
     "text": [
      "[WARN] matrix-nilm-test\\matrix-nilm-test\\json\\house_004\\H004_ch13_20231002.json : active_inactive 라벨 없음 → 전부 0\n"
     ]
    },
    {
     "name": "stderr",
     "output_type": "stream",
     "text": [
      " 50%|█████     | 84/167 [02:25<03:43,  2.69s/it]"
     ]
    },
    {
     "name": "stdout",
     "output_type": "stream",
     "text": [
      "[WARN] matrix-nilm-test\\matrix-nilm-test\\json\\house_004\\H004_ch23_20231002.json : active_inactive 라벨 없음 → 전부 0\n"
     ]
    },
    {
     "name": "stderr",
     "output_type": "stream",
     "text": [
      " 51%|█████▏    | 86/167 [02:31<03:39,  2.70s/it]"
     ]
    },
    {
     "name": "stdout",
     "output_type": "stream",
     "text": [
      "[WARN] matrix-nilm-test\\matrix-nilm-test\\json\\house_005\\H005_ch02_20231002.json : active_inactive 라벨 없음 → 전부 0\n"
     ]
    },
    {
     "name": "stderr",
     "output_type": "stream",
     "text": [
      " 52%|█████▏    | 87/167 [02:35<04:18,  3.23s/it]"
     ]
    },
    {
     "name": "stdout",
     "output_type": "stream",
     "text": [
      "[WARN] matrix-nilm-test\\matrix-nilm-test\\json\\house_005\\H005_ch03_20231002.json : active_inactive 라벨 없음 → 전부 0\n"
     ]
    },
    {
     "name": "stderr",
     "output_type": "stream",
     "text": [
      " 53%|█████▎    | 88/167 [02:40<04:48,  3.65s/it]"
     ]
    },
    {
     "name": "stdout",
     "output_type": "stream",
     "text": [
      "[WARN] matrix-nilm-test\\matrix-nilm-test\\json\\house_005\\H005_ch04_20231002.json : active_inactive 라벨 없음 → 전부 0\n"
     ]
    },
    {
     "name": "stderr",
     "output_type": "stream",
     "text": [
      " 53%|█████▎    | 89/167 [02:42<04:22,  3.36s/it]"
     ]
    },
    {
     "name": "stdout",
     "output_type": "stream",
     "text": [
      "[WARN] matrix-nilm-test\\matrix-nilm-test\\json\\house_005\\H005_ch05_20231002.json : active_inactive 라벨 없음 → 전부 0\n"
     ]
    },
    {
     "name": "stderr",
     "output_type": "stream",
     "text": [
      " 56%|█████▌    | 93/167 [03:00<05:31,  4.47s/it]"
     ]
    },
    {
     "name": "stdout",
     "output_type": "stream",
     "text": [
      "[WARN] matrix-nilm-test\\matrix-nilm-test\\json\\house_005\\H005_ch12_20231002.json : active_inactive 라벨 없음 → 전부 0\n"
     ]
    },
    {
     "name": "stderr",
     "output_type": "stream",
     "text": [
      " 57%|█████▋    | 95/167 [03:11<06:08,  5.12s/it]"
     ]
    },
    {
     "name": "stdout",
     "output_type": "stream",
     "text": [
      "[WARN] matrix-nilm-test\\matrix-nilm-test\\json\\house_005\\H005_ch17_20231002.json : active_inactive 라벨 없음 → 전부 0\n"
     ]
    },
    {
     "name": "stderr",
     "output_type": "stream",
     "text": [
      " 57%|█████▋    | 96/167 [03:17<06:10,  5.22s/it]"
     ]
    },
    {
     "name": "stdout",
     "output_type": "stream",
     "text": [
      "[WARN] matrix-nilm-test\\matrix-nilm-test\\json\\house_005\\H005_ch18_20231002.json : active_inactive 라벨 없음 → 전부 0\n"
     ]
    },
    {
     "name": "stderr",
     "output_type": "stream",
     "text": [
      " 59%|█████▊    | 98/167 [03:28<06:15,  5.45s/it]"
     ]
    },
    {
     "name": "stdout",
     "output_type": "stream",
     "text": [
      "[WARN] matrix-nilm-test\\matrix-nilm-test\\json\\house_005\\H005_ch20_20231002.json : active_inactive 라벨 없음 → 전부 0\n"
     ]
    },
    {
     "name": "stderr",
     "output_type": "stream",
     "text": [
      " 60%|██████    | 101/167 [03:37<04:07,  3.75s/it]"
     ]
    },
    {
     "name": "stdout",
     "output_type": "stream",
     "text": [
      "[WARN] matrix-nilm-test\\matrix-nilm-test\\json\\house_005\\H005_ch23_20231002.json : active_inactive 라벨 없음 → 전부 0\n"
     ]
    },
    {
     "name": "stderr",
     "output_type": "stream",
     "text": [
      " 62%|██████▏   | 103/167 [03:42<03:22,  3.17s/it]"
     ]
    },
    {
     "name": "stdout",
     "output_type": "stream",
     "text": [
      "[WARN] matrix-nilm-test\\matrix-nilm-test\\json\\house_006\\H006_ch03_20231002.json : active_inactive 라벨 없음 → 전부 0\n"
     ]
    },
    {
     "name": "stderr",
     "output_type": "stream",
     "text": [
      " 62%|██████▏   | 104/167 [03:45<03:09,  3.02s/it]"
     ]
    },
    {
     "name": "stdout",
     "output_type": "stream",
     "text": [
      "[WARN] matrix-nilm-test\\matrix-nilm-test\\json\\house_006\\H006_ch04_20231002.json : active_inactive 라벨 없음 → 전부 0\n"
     ]
    },
    {
     "name": "stderr",
     "output_type": "stream",
     "text": [
      " 64%|██████▍   | 107/167 [03:53<02:44,  2.75s/it]"
     ]
    },
    {
     "name": "stdout",
     "output_type": "stream",
     "text": [
      "[WARN] matrix-nilm-test\\matrix-nilm-test\\json\\house_006\\H006_ch09_20231002.json : active_inactive 라벨 없음 → 전부 0\n"
     ]
    },
    {
     "name": "stderr",
     "output_type": "stream",
     "text": [
      " 65%|██████▌   | 109/167 [03:58<02:35,  2.67s/it]"
     ]
    },
    {
     "name": "stdout",
     "output_type": "stream",
     "text": [
      "[WARN] matrix-nilm-test\\matrix-nilm-test\\json\\house_006\\H006_ch13_20231002.json : active_inactive 라벨 없음 → 전부 0\n"
     ]
    },
    {
     "name": "stderr",
     "output_type": "stream",
     "text": [
      " 66%|██████▌   | 110/167 [04:01<02:31,  2.65s/it]"
     ]
    },
    {
     "name": "stdout",
     "output_type": "stream",
     "text": [
      "[WARN] matrix-nilm-test\\matrix-nilm-test\\json\\house_006\\H006_ch14_20231002.json : active_inactive 라벨 없음 → 전부 0\n"
     ]
    },
    {
     "name": "stderr",
     "output_type": "stream",
     "text": [
      " 68%|██████▊   | 113/167 [04:09<02:23,  2.66s/it]"
     ]
    },
    {
     "name": "stdout",
     "output_type": "stream",
     "text": [
      "[WARN] matrix-nilm-test\\matrix-nilm-test\\json\\house_006\\H006_ch20_20231002.json : active_inactive 라벨 없음 → 전부 0\n"
     ]
    },
    {
     "name": "stderr",
     "output_type": "stream",
     "text": [
      " 70%|███████   | 117/167 [04:19<02:12,  2.66s/it]"
     ]
    },
    {
     "name": "stdout",
     "output_type": "stream",
     "text": [
      "[WARN] matrix-nilm-test\\matrix-nilm-test\\json\\house_007\\H007_ch04_20231002.json : active_inactive 라벨 없음 → 전부 0\n"
     ]
    },
    {
     "name": "stderr",
     "output_type": "stream",
     "text": [
      " 71%|███████   | 118/167 [04:22<02:10,  2.67s/it]"
     ]
    },
    {
     "name": "stdout",
     "output_type": "stream",
     "text": [
      "[WARN] matrix-nilm-test\\matrix-nilm-test\\json\\house_007\\H007_ch07_20231002.json : active_inactive 라벨 없음 → 전부 0\n"
     ]
    },
    {
     "name": "stderr",
     "output_type": "stream",
     "text": [
      " 71%|███████▏  | 119/167 [04:25<02:07,  2.65s/it]"
     ]
    },
    {
     "name": "stdout",
     "output_type": "stream",
     "text": [
      "[WARN] matrix-nilm-test\\matrix-nilm-test\\json\\house_007\\H007_ch09_20231002.json : active_inactive 라벨 없음 → 전부 0\n"
     ]
    },
    {
     "name": "stderr",
     "output_type": "stream",
     "text": [
      " 72%|███████▏  | 120/167 [04:27<02:04,  2.64s/it]"
     ]
    },
    {
     "name": "stdout",
     "output_type": "stream",
     "text": [
      "[WARN] matrix-nilm-test\\matrix-nilm-test\\json\\house_007\\H007_ch10_20231002.json : active_inactive 라벨 없음 → 전부 0\n"
     ]
    },
    {
     "name": "stderr",
     "output_type": "stream",
     "text": [
      " 72%|███████▏  | 121/167 [04:30<02:02,  2.66s/it]"
     ]
    },
    {
     "name": "stdout",
     "output_type": "stream",
     "text": [
      "[WARN] matrix-nilm-test\\matrix-nilm-test\\json\\house_007\\H007_ch13_20231002.json : active_inactive 라벨 없음 → 전부 0\n"
     ]
    },
    {
     "name": "stderr",
     "output_type": "stream",
     "text": [
      " 73%|███████▎  | 122/167 [04:33<02:00,  2.68s/it]"
     ]
    },
    {
     "name": "stdout",
     "output_type": "stream",
     "text": [
      "[WARN] matrix-nilm-test\\matrix-nilm-test\\json\\house_007\\H007_ch17_20231002.json : active_inactive 라벨 없음 → 전부 0\n"
     ]
    },
    {
     "name": "stderr",
     "output_type": "stream",
     "text": [
      " 74%|███████▍  | 124/167 [04:38<01:56,  2.71s/it]"
     ]
    },
    {
     "name": "stdout",
     "output_type": "stream",
     "text": [
      "[WARN] matrix-nilm-test\\matrix-nilm-test\\json\\house_007\\H007_ch20_20231002.json : active_inactive 라벨 없음 → 전부 0\n"
     ]
    },
    {
     "name": "stderr",
     "output_type": "stream",
     "text": [
      " 75%|███████▌  | 126/167 [04:44<01:54,  2.78s/it]"
     ]
    },
    {
     "name": "stdout",
     "output_type": "stream",
     "text": [
      "[WARN] matrix-nilm-test\\matrix-nilm-test\\json\\house_007\\H007_ch23_20231002.json : active_inactive 라벨 없음 → 전부 0\n"
     ]
    },
    {
     "name": "stderr",
     "output_type": "stream",
     "text": [
      " 77%|███████▋  | 128/167 [04:49<01:46,  2.73s/it]"
     ]
    },
    {
     "name": "stdout",
     "output_type": "stream",
     "text": [
      "[WARN] matrix-nilm-test\\matrix-nilm-test\\json\\house_008\\H008_ch03_20231002.json : active_inactive 라벨 없음 → 전부 0\n"
     ]
    },
    {
     "name": "stderr",
     "output_type": "stream",
     "text": [
      " 77%|███████▋  | 128/167 [04:50<01:28,  2.27s/it]\n"
     ]
    },
    {
     "ename": "ParserError",
     "evalue": "Error tokenizing data. C error: Calling read(nbytes) on source failed. Try engine='python'.",
     "output_type": "error",
     "traceback": [
      "\u001b[1;31m---------------------------------------------------------------------------\u001b[0m",
      "\u001b[1;31mParserError\u001b[0m                               Traceback (most recent call last)",
      "Cell \u001b[1;32mIn[2], line 57\u001b[0m\n\u001b[0;32m     55\u001b[0m \u001b[38;5;66;03m# ── 전체 일괄 실행 ───────────────────────────────────────────\u001b[39;00m\n\u001b[0;32m     56\u001b[0m \u001b[38;5;28;01mfor\u001b[39;00m csv \u001b[38;5;129;01min\u001b[39;00m tqdm(\u001b[38;5;28msorted\u001b[39m(CSV_ROOT\u001b[38;5;241m.\u001b[39mrglob(\u001b[38;5;124m\"\u001b[39m\u001b[38;5;124m*.csv\u001b[39m\u001b[38;5;124m\"\u001b[39m))):\n\u001b[1;32m---> 57\u001b[0m     \u001b[43mprocess_one\u001b[49m\u001b[43m(\u001b[49m\u001b[43mcsv\u001b[49m\u001b[43m)\u001b[49m\n",
      "Cell \u001b[1;32mIn[2], line 24\u001b[0m, in \u001b[0;36mprocess_one\u001b[1;34m(csv_path)\u001b[0m\n\u001b[0;32m     22\u001b[0m \u001b[38;5;66;03m# ── 1. CSV 읽기 & 5개 컬럼만 ──────────────────────────\u001b[39;00m\n\u001b[0;32m     23\u001b[0m cols \u001b[38;5;241m=\u001b[39m [\u001b[38;5;124m\"\u001b[39m\u001b[38;5;124mdate_time\u001b[39m\u001b[38;5;124m\"\u001b[39m, \u001b[38;5;124m\"\u001b[39m\u001b[38;5;124mactive_power\u001b[39m\u001b[38;5;124m\"\u001b[39m, \u001b[38;5;124m\"\u001b[39m\u001b[38;5;124mvoltage\u001b[39m\u001b[38;5;124m\"\u001b[39m, \u001b[38;5;124m\"\u001b[39m\u001b[38;5;124mcurrent\u001b[39m\u001b[38;5;124m\"\u001b[39m, \u001b[38;5;124m\"\u001b[39m\u001b[38;5;124mreactive_power\u001b[39m\u001b[38;5;124m\"\u001b[39m]\n\u001b[1;32m---> 24\u001b[0m df \u001b[38;5;241m=\u001b[39m \u001b[43mpd\u001b[49m\u001b[38;5;241;43m.\u001b[39;49m\u001b[43mread_csv\u001b[49m\u001b[43m(\u001b[49m\u001b[43mcsv_path\u001b[49m\u001b[43m,\u001b[49m\u001b[43m \u001b[49m\u001b[43musecols\u001b[49m\u001b[38;5;241;43m=\u001b[39;49m\u001b[43mcols\u001b[49m\u001b[43m,\u001b[49m\u001b[43m \u001b[49m\u001b[43mparse_dates\u001b[49m\u001b[38;5;241;43m=\u001b[39;49m\u001b[43m[\u001b[49m\u001b[38;5;124;43m\"\u001b[39;49m\u001b[38;5;124;43mdate_time\u001b[39;49m\u001b[38;5;124;43m\"\u001b[39;49m\u001b[43m]\u001b[49m\u001b[43m)\u001b[49m\n\u001b[0;32m     26\u001b[0m \u001b[38;5;66;03m# ── 2. 1 ms 샘플링(행 % 3 == 0) ──────────────────────\u001b[39;00m\n\u001b[0;32m     27\u001b[0m df \u001b[38;5;241m=\u001b[39m df\u001b[38;5;241m.\u001b[39miloc[::\u001b[38;5;241m3\u001b[39m]\u001b[38;5;241m.\u001b[39mreset_index(drop\u001b[38;5;241m=\u001b[39m\u001b[38;5;28;01mTrue\u001b[39;00m)\n",
      "File \u001b[1;32mc:\\Users\\kingm\\miniforge3\\envs\\vis\\Lib\\site-packages\\pandas\\io\\parsers\\readers.py:1026\u001b[0m, in \u001b[0;36mread_csv\u001b[1;34m(filepath_or_buffer, sep, delimiter, header, names, index_col, usecols, dtype, engine, converters, true_values, false_values, skipinitialspace, skiprows, skipfooter, nrows, na_values, keep_default_na, na_filter, verbose, skip_blank_lines, parse_dates, infer_datetime_format, keep_date_col, date_parser, date_format, dayfirst, cache_dates, iterator, chunksize, compression, thousands, decimal, lineterminator, quotechar, quoting, doublequote, escapechar, comment, encoding, encoding_errors, dialect, on_bad_lines, delim_whitespace, low_memory, memory_map, float_precision, storage_options, dtype_backend)\u001b[0m\n\u001b[0;32m   1013\u001b[0m kwds_defaults \u001b[38;5;241m=\u001b[39m _refine_defaults_read(\n\u001b[0;32m   1014\u001b[0m     dialect,\n\u001b[0;32m   1015\u001b[0m     delimiter,\n\u001b[1;32m   (...)\u001b[0m\n\u001b[0;32m   1022\u001b[0m     dtype_backend\u001b[38;5;241m=\u001b[39mdtype_backend,\n\u001b[0;32m   1023\u001b[0m )\n\u001b[0;32m   1024\u001b[0m kwds\u001b[38;5;241m.\u001b[39mupdate(kwds_defaults)\n\u001b[1;32m-> 1026\u001b[0m \u001b[38;5;28;01mreturn\u001b[39;00m \u001b[43m_read\u001b[49m\u001b[43m(\u001b[49m\u001b[43mfilepath_or_buffer\u001b[49m\u001b[43m,\u001b[49m\u001b[43m \u001b[49m\u001b[43mkwds\u001b[49m\u001b[43m)\u001b[49m\n",
      "File \u001b[1;32mc:\\Users\\kingm\\miniforge3\\envs\\vis\\Lib\\site-packages\\pandas\\io\\parsers\\readers.py:626\u001b[0m, in \u001b[0;36m_read\u001b[1;34m(filepath_or_buffer, kwds)\u001b[0m\n\u001b[0;32m    623\u001b[0m     \u001b[38;5;28;01mreturn\u001b[39;00m parser\n\u001b[0;32m    625\u001b[0m \u001b[38;5;28;01mwith\u001b[39;00m parser:\n\u001b[1;32m--> 626\u001b[0m     \u001b[38;5;28;01mreturn\u001b[39;00m \u001b[43mparser\u001b[49m\u001b[38;5;241;43m.\u001b[39;49m\u001b[43mread\u001b[49m\u001b[43m(\u001b[49m\u001b[43mnrows\u001b[49m\u001b[43m)\u001b[49m\n",
      "File \u001b[1;32mc:\\Users\\kingm\\miniforge3\\envs\\vis\\Lib\\site-packages\\pandas\\io\\parsers\\readers.py:1923\u001b[0m, in \u001b[0;36mTextFileReader.read\u001b[1;34m(self, nrows)\u001b[0m\n\u001b[0;32m   1916\u001b[0m nrows \u001b[38;5;241m=\u001b[39m validate_integer(\u001b[38;5;124m\"\u001b[39m\u001b[38;5;124mnrows\u001b[39m\u001b[38;5;124m\"\u001b[39m, nrows)\n\u001b[0;32m   1917\u001b[0m \u001b[38;5;28;01mtry\u001b[39;00m:\n\u001b[0;32m   1918\u001b[0m     \u001b[38;5;66;03m# error: \"ParserBase\" has no attribute \"read\"\u001b[39;00m\n\u001b[0;32m   1919\u001b[0m     (\n\u001b[0;32m   1920\u001b[0m         index,\n\u001b[0;32m   1921\u001b[0m         columns,\n\u001b[0;32m   1922\u001b[0m         col_dict,\n\u001b[1;32m-> 1923\u001b[0m     ) \u001b[38;5;241m=\u001b[39m \u001b[38;5;28;43mself\u001b[39;49m\u001b[38;5;241;43m.\u001b[39;49m\u001b[43m_engine\u001b[49m\u001b[38;5;241;43m.\u001b[39;49m\u001b[43mread\u001b[49m\u001b[43m(\u001b[49m\u001b[43m  \u001b[49m\u001b[38;5;66;43;03m# type: ignore[attr-defined]\u001b[39;49;00m\n\u001b[0;32m   1924\u001b[0m \u001b[43m        \u001b[49m\u001b[43mnrows\u001b[49m\n\u001b[0;32m   1925\u001b[0m \u001b[43m    \u001b[49m\u001b[43m)\u001b[49m\n\u001b[0;32m   1926\u001b[0m \u001b[38;5;28;01mexcept\u001b[39;00m \u001b[38;5;167;01mException\u001b[39;00m:\n\u001b[0;32m   1927\u001b[0m     \u001b[38;5;28mself\u001b[39m\u001b[38;5;241m.\u001b[39mclose()\n",
      "File \u001b[1;32mc:\\Users\\kingm\\miniforge3\\envs\\vis\\Lib\\site-packages\\pandas\\io\\parsers\\c_parser_wrapper.py:234\u001b[0m, in \u001b[0;36mCParserWrapper.read\u001b[1;34m(self, nrows)\u001b[0m\n\u001b[0;32m    232\u001b[0m \u001b[38;5;28;01mtry\u001b[39;00m:\n\u001b[0;32m    233\u001b[0m     \u001b[38;5;28;01mif\u001b[39;00m \u001b[38;5;28mself\u001b[39m\u001b[38;5;241m.\u001b[39mlow_memory:\n\u001b[1;32m--> 234\u001b[0m         chunks \u001b[38;5;241m=\u001b[39m \u001b[38;5;28;43mself\u001b[39;49m\u001b[38;5;241;43m.\u001b[39;49m\u001b[43m_reader\u001b[49m\u001b[38;5;241;43m.\u001b[39;49m\u001b[43mread_low_memory\u001b[49m\u001b[43m(\u001b[49m\u001b[43mnrows\u001b[49m\u001b[43m)\u001b[49m\n\u001b[0;32m    235\u001b[0m         \u001b[38;5;66;03m# destructive to chunks\u001b[39;00m\n\u001b[0;32m    236\u001b[0m         data \u001b[38;5;241m=\u001b[39m _concatenate_chunks(chunks)\n",
      "File \u001b[1;32mparsers.pyx:838\u001b[0m, in \u001b[0;36mpandas._libs.parsers.TextReader.read_low_memory\u001b[1;34m()\u001b[0m\n",
      "File \u001b[1;32mparsers.pyx:905\u001b[0m, in \u001b[0;36mpandas._libs.parsers.TextReader._read_rows\u001b[1;34m()\u001b[0m\n",
      "File \u001b[1;32mparsers.pyx:874\u001b[0m, in \u001b[0;36mpandas._libs.parsers.TextReader._tokenize_rows\u001b[1;34m()\u001b[0m\n",
      "File \u001b[1;32mparsers.pyx:891\u001b[0m, in \u001b[0;36mpandas._libs.parsers.TextReader._check_tokenize_status\u001b[1;34m()\u001b[0m\n",
      "File \u001b[1;32mparsers.pyx:2061\u001b[0m, in \u001b[0;36mpandas._libs.parsers.raise_parser_error\u001b[1;34m()\u001b[0m\n",
      "\u001b[1;31mParserError\u001b[0m: Error tokenizing data. C error: Calling read(nbytes) on source failed. Try engine='python'."
     ]
    }
   ],
   "source": [
    "\n",
    "# ── 보조 함수 : active_inactive 마스크 ───────────────────────\n",
    "def build_active_mask(times: pd.Series, intervals: list[list[str]]) -> pd.Series:\n",
    "    mask = pd.Series(0, index=times.index, dtype=\"int8\")\n",
    "    for start, end in intervals:\n",
    "        s, e = pd.to_datetime(start), pd.to_datetime(end)\n",
    "        mask |= ((times >= s) & (times <= e)).astype(\"int8\")\n",
    "    return mask\n",
    "\n",
    "# ── CSV 1개 처리 함수 ───────────────────────────────────────\n",
    "def process_one(csv_path: Path) -> None:\n",
    "    out_path = SAVE_DIR / f\"{csv_path.stem}.ts.pkl\"\n",
    "    if out_path.exists():          # 이미 처리됨 → 건너뛰기\n",
    "        return\n",
    "\n",
    "    # 대응 JSON: CSV_ROOT 이후 경로 + .json, json 루트로 교체\n",
    "    rel   = csv_path.relative_to(CSV_ROOT)\n",
    "    json_path = (JSON_ROOT / rel).with_suffix(\".json\")\n",
    "    if not json_path.exists():\n",
    "        print(f\"[SKIP] {csv_path} → JSON 없음\")\n",
    "        return                    # JSON 없으면 전체 건너뛰기\n",
    "\n",
    "    # ── 1. CSV 읽기 & 5개 컬럼만 ──────────────────────────\n",
    "    cols = [\"date_time\", \"active_power\", \"voltage\", \"current\", \"reactive_power\"]\n",
    "    df = pd.read_csv(csv_path, usecols=cols, parse_dates=[\"date_time\"])\n",
    "\n",
    "    # ── 2. 1 ms 샘플링(행 % 3 == 0) ──────────────────────\n",
    "    df = df.iloc[::3].reset_index(drop=True)\n",
    "\n",
    "    # ── 3. JSON 라벨 로드 & active_inactive 생성 ───────────\n",
    "    with open(json_path, encoding=\"utf-8\") as f:\n",
    "        label = json.load(f)\n",
    "\n",
    "    # JSON 구조가 다른 경우를 대비해 두 가지 키 모두 시도\n",
    "    intervals = (\n",
    "        label.get(\"labels\", {}).get(\"active_inactive\")\n",
    "        or label.get(\"active_inactive\")\n",
    "        or []\n",
    "    )\n",
    "    if not intervals:\n",
    "        print(f\"[WARN] {json_path} : active_inactive 라벨 없음 → 전부 0\")\n",
    "    df[\"active_inactive\"] = build_active_mask(df[\"date_time\"], intervals)\n",
    "\n",
    "    # ── 4. Darts TimeSeries 변환 & 5. 피클 저장 ───────────\n",
    "    ts = TimeSeries.from_dataframe(\n",
    "        df,\n",
    "        time_col=\"date_time\",\n",
    "        value_cols=[\n",
    "            \"active_power\", \"voltage\", \"current\",\n",
    "            \"reactive_power\", \"active_inactive\"\n",
    "        ],\n",
    "        fill_missing_dates=False\n",
    "    )\n",
    "    ts.to_pickle(out_path)\n",
    "\n",
    "# ── 전체 일괄 실행 ───────────────────────────────────────────\n",
    "for csv in tqdm(sorted(CSV_ROOT.rglob(\"*.csv\"))):\n",
    "    process_one(csv)\n"
   ]
  },
  {
   "cell_type": "code",
   "execution_count": 4,
   "id": "da991c83",
   "metadata": {},
   "outputs": [
    {
     "name": "stdout",
     "output_type": "stream",
     "text": [
      "총 167 개 CSV 처리 시작\n"
     ]
    },
    {
     "name": "stderr",
     "output_type": "stream",
     "text": [
      "100%|██████████| 167/167 [10:31<00:00,  3.78s/it]\n"
     ]
    }
   ],
   "source": [
    "# -*- coding: utf-8 -*-\n",
    "\"\"\"\n",
    "CSV  ➜  라벨링·다운샘플  ➜  Darts TimeSeries  ➜  pickle\n",
    "\"\"\"\n",
    "\n",
    "import json, pathlib, glob, os\n",
    "import pandas as pd\n",
    "from tqdm import tqdm\n",
    "from darts import TimeSeries\n",
    "\n",
    "# ─────────────────── 폴더 경로 ─────────────────────────────\n",
    "ROOT      = pathlib.Path(r\"matrix-nilm-test/matrix-nilm-test\")\n",
    "CSV_ROOT  = ROOT / \"csv\"          # csv/house_001/…\n",
    "JSON_ROOT = ROOT / \"json\"         # json/house_001/…\n",
    "SAVE_DIR  = ROOT / \"ts_pickle\"    # 결과 저장\n",
    "SAVE_DIR.mkdir(parents=True, exist_ok=True)\n",
    "\n",
    "# ─────────────────── 1. JSON → 활성 구간 ───────────────────\n",
    "def read_active_windows(json_path: pathlib.Path):\n",
    "    \"\"\"사용자 기존 함수 그대로\"\"\"\n",
    "    with open(json_path, encoding=\"utf-8\") as f:\n",
    "        data = json.load(f)\n",
    "    return [\n",
    "        (pd.to_datetime(s), pd.to_datetime(e))\n",
    "        for s, e in data[\"labels\"][\"active_inactive\"]\n",
    "    ]\n",
    "\n",
    "# ─────────────────── 2. CSV 1개 처리 ───────────────────────\n",
    "def process_one(csv_path: pathlib.Path):\n",
    "    out_path = SAVE_DIR / f\"{csv_path.stem}.ts.pkl\"\n",
    "    if out_path.exists():                  # 이미 처리된 파일은 패스\n",
    "        return\n",
    "\n",
    "    # house·채널·날짜 파싱\n",
    "    house_id, ch_id, date_str, *_ = csv_path.stem.split(\"_\")   # H001 ch04 20230924\n",
    "    # ① 날짜가 같은 JSON 우선, ② 없으면 같은 house+채널 JSON 아무거나\n",
    "    json_path = (\n",
    "        JSON_ROOT / f\"house_{house_id[1:]}\" /\n",
    "        f\"{house_id}_{ch_id}_{date_str}.json\"\n",
    "    )\n",
    "    if not json_path.exists():\n",
    "        # 날짜 다른 JSON 검색\n",
    "        pattern = (\n",
    "            JSON_ROOT / f\"house_{house_id[1:]}\" /\n",
    "            f\"{house_id}_{ch_id}_*.json\"\n",
    "        )\n",
    "        hits = list(glob.glob(str(pattern)))\n",
    "        if hits:\n",
    "            json_path = pathlib.Path(hits[0])\n",
    "        else:\n",
    "            print(f\"[SKIP] {csv_path}  ▶ JSON 없음\")\n",
    "            return\n",
    "\n",
    "    # ── CSV 로드 & 5 컬럼 ↓ ──────────────────────────────\n",
    "    keep = [\"date_time\", \"active_power\", \"voltage\", \"current\", \"reactive_power\"]\n",
    "    df = pd.read_csv(csv_path, usecols=keep, parse_dates=[\"date_time\"])\n",
    "\n",
    "    # ── 1 ms 등간격 샘플링(행 % 3 == 0) ─────────────────\n",
    "    df = df.iloc[::3].reset_index(drop=True)\n",
    "\n",
    "    # ── active_inactive 라벨링 ──────────────────────────\n",
    "    windows = read_active_windows(json_path)\n",
    "    mask = pd.Series(0, index=df.index, dtype=\"int8\")\n",
    "    for s, e in windows:                         # start ≤ t ≤ end\n",
    "        mask |= ((df[\"date_time\"] >= s) & (df[\"date_time\"] <= e)).astype(\"int8\")\n",
    "    df[\"active_inactive\"] = mask\n",
    "\n",
    "    # ── Darts TimeSeries 변환 & 저장 ───────────────────\n",
    "    ts = TimeSeries.from_dataframe(\n",
    "        df,\n",
    "        time_col=\"date_time\",\n",
    "        value_cols=[\n",
    "            \"active_power\", \"voltage\", \"current\",\n",
    "            \"reactive_power\", \"active_inactive\"\n",
    "        ],\n",
    "        fill_missing_dates=False\n",
    "    )\n",
    "    ts.to_pickle(out_path)\n",
    "\n",
    "# ─────────────────── 3. 전체 실행 ─────────────────────────\n",
    "csv_list = sorted(CSV_ROOT.rglob(\"*.csv\"))\n",
    "print(f\"총 {len(csv_list):,} 개 CSV 처리 시작\")\n",
    "\n",
    "for csv in tqdm(csv_list):\n",
    "    process_one(csv)\n"
   ]
  },
  {
   "cell_type": "code",
   "execution_count": 21,
   "id": "81f44dc4",
   "metadata": {},
   "outputs": [
    {
     "data": {
      "text/html": [
       "<div>\n",
       "<style scoped>\n",
       "    .dataframe tbody tr th:only-of-type {\n",
       "        vertical-align: middle;\n",
       "    }\n",
       "\n",
       "    .dataframe tbody tr th {\n",
       "        vertical-align: top;\n",
       "    }\n",
       "\n",
       "    .dataframe thead th {\n",
       "        text-align: right;\n",
       "    }\n",
       "</style>\n",
       "<table border=\"1\" class=\"dataframe\">\n",
       "  <thead>\n",
       "    <tr style=\"text-align: right;\">\n",
       "      <th>component</th>\n",
       "      <th>active_power</th>\n",
       "      <th>voltage</th>\n",
       "      <th>current</th>\n",
       "      <th>reactive_power</th>\n",
       "      <th>active_inactive</th>\n",
       "    </tr>\n",
       "    <tr>\n",
       "      <th>date_time</th>\n",
       "      <th></th>\n",
       "      <th></th>\n",
       "      <th></th>\n",
       "      <th></th>\n",
       "      <th></th>\n",
       "    </tr>\n",
       "  </thead>\n",
       "  <tbody>\n",
       "    <tr>\n",
       "      <th>2023-09-24 00:00:00.000</th>\n",
       "      <td>302.59</td>\n",
       "      <td>217.0</td>\n",
       "      <td>2.187</td>\n",
       "      <td>365.60</td>\n",
       "      <td>0.0</td>\n",
       "    </tr>\n",
       "    <tr>\n",
       "      <th>2023-09-24 00:00:00.100</th>\n",
       "      <td>301.21</td>\n",
       "      <td>217.0</td>\n",
       "      <td>2.180</td>\n",
       "      <td>364.77</td>\n",
       "      <td>0.0</td>\n",
       "    </tr>\n",
       "    <tr>\n",
       "      <th>2023-09-24 00:00:00.200</th>\n",
       "      <td>303.24</td>\n",
       "      <td>217.0</td>\n",
       "      <td>2.178</td>\n",
       "      <td>362.52</td>\n",
       "      <td>0.0</td>\n",
       "    </tr>\n",
       "    <tr>\n",
       "      <th>2023-09-24 00:00:00.300</th>\n",
       "      <td>303.94</td>\n",
       "      <td>217.0</td>\n",
       "      <td>2.187</td>\n",
       "      <td>364.48</td>\n",
       "      <td>0.0</td>\n",
       "    </tr>\n",
       "    <tr>\n",
       "      <th>2023-09-24 00:00:00.400</th>\n",
       "      <td>303.30</td>\n",
       "      <td>217.0</td>\n",
       "      <td>2.183</td>\n",
       "      <td>363.88</td>\n",
       "      <td>0.0</td>\n",
       "    </tr>\n",
       "    <tr>\n",
       "      <th>...</th>\n",
       "      <td>...</td>\n",
       "      <td>...</td>\n",
       "      <td>...</td>\n",
       "      <td>...</td>\n",
       "      <td>...</td>\n",
       "    </tr>\n",
       "    <tr>\n",
       "      <th>2023-09-24 23:59:59.500</th>\n",
       "      <td>264.41</td>\n",
       "      <td>218.0</td>\n",
       "      <td>1.834</td>\n",
       "      <td>299.89</td>\n",
       "      <td>0.0</td>\n",
       "    </tr>\n",
       "    <tr>\n",
       "      <th>2023-09-24 23:59:59.600</th>\n",
       "      <td>264.41</td>\n",
       "      <td>218.0</td>\n",
       "      <td>1.834</td>\n",
       "      <td>299.89</td>\n",
       "      <td>0.0</td>\n",
       "    </tr>\n",
       "    <tr>\n",
       "      <th>2023-09-24 23:59:59.700</th>\n",
       "      <td>264.41</td>\n",
       "      <td>218.0</td>\n",
       "      <td>1.834</td>\n",
       "      <td>299.89</td>\n",
       "      <td>0.0</td>\n",
       "    </tr>\n",
       "    <tr>\n",
       "      <th>2023-09-24 23:59:59.800</th>\n",
       "      <td>264.41</td>\n",
       "      <td>218.0</td>\n",
       "      <td>1.834</td>\n",
       "      <td>299.89</td>\n",
       "      <td>0.0</td>\n",
       "    </tr>\n",
       "    <tr>\n",
       "      <th>2023-09-24 23:59:59.900</th>\n",
       "      <td>264.41</td>\n",
       "      <td>218.0</td>\n",
       "      <td>1.834</td>\n",
       "      <td>299.89</td>\n",
       "      <td>0.0</td>\n",
       "    </tr>\n",
       "  </tbody>\n",
       "</table>\n",
       "<p>864000 rows × 5 columns</p>\n",
       "</div>"
      ],
      "text/plain": [
       "component                active_power  voltage  current  reactive_power  \\\n",
       "date_time                                                                 \n",
       "2023-09-24 00:00:00.000        302.59    217.0    2.187          365.60   \n",
       "2023-09-24 00:00:00.100        301.21    217.0    2.180          364.77   \n",
       "2023-09-24 00:00:00.200        303.24    217.0    2.178          362.52   \n",
       "2023-09-24 00:00:00.300        303.94    217.0    2.187          364.48   \n",
       "2023-09-24 00:00:00.400        303.30    217.0    2.183          363.88   \n",
       "...                               ...      ...      ...             ...   \n",
       "2023-09-24 23:59:59.500        264.41    218.0    1.834          299.89   \n",
       "2023-09-24 23:59:59.600        264.41    218.0    1.834          299.89   \n",
       "2023-09-24 23:59:59.700        264.41    218.0    1.834          299.89   \n",
       "2023-09-24 23:59:59.800        264.41    218.0    1.834          299.89   \n",
       "2023-09-24 23:59:59.900        264.41    218.0    1.834          299.89   \n",
       "\n",
       "component                active_inactive  \n",
       "date_time                                 \n",
       "2023-09-24 00:00:00.000              0.0  \n",
       "2023-09-24 00:00:00.100              0.0  \n",
       "2023-09-24 00:00:00.200              0.0  \n",
       "2023-09-24 00:00:00.300              0.0  \n",
       "2023-09-24 00:00:00.400              0.0  \n",
       "...                                  ...  \n",
       "2023-09-24 23:59:59.500              0.0  \n",
       "2023-09-24 23:59:59.600              0.0  \n",
       "2023-09-24 23:59:59.700              0.0  \n",
       "2023-09-24 23:59:59.800              0.0  \n",
       "2023-09-24 23:59:59.900              0.0  \n",
       "\n",
       "[864000 rows x 5 columns]"
      ]
     },
     "metadata": {},
     "output_type": "display_data"
    }
   ],
   "source": [
    "from pathlib import Path\n",
    "from darts import TimeSeries\n",
    "import pandas as pd\n",
    "\n",
    "def ts_pkl_to_df(pkl_path: str | Path) -> pd.DataFrame:\n",
    "    \"\"\"\n",
    "    .ts.pkl → pandas.DataFrame 로 변환\n",
    "    \"\"\"\n",
    "    pkl_path = Path(pkl_path)\n",
    "    if not pkl_path.exists():\n",
    "        raise FileNotFoundError(pkl_path)\n",
    "\n",
    "    # ✅ TimeSeries 복구\n",
    "    ts: TimeSeries = TimeSeries.from_pickle(str(pkl_path))   # ← 여기!\n",
    "\n",
    "    # pandas DataFrame 으로\n",
    "    return ts.to_dataframe()   # 또는 ts.to_dataframe()\n",
    "\n",
    "# ── 사용 예시 ───────────────────────────────────────────────\n",
    "if __name__ == \"__main__\":\n",
    "    pkl_file = \"matrix-nilm-test/matrix-nilm-test/ts_pickle/H001_ch01_20230924.ts.pkl\"\n",
    "    df = ts_pkl_to_df(pkl_file)\n",
    "    display(df)\n"
   ]
  }
 ],
 "metadata": {
  "kernelspec": {
   "display_name": "vis",
   "language": "python",
   "name": "python3"
  },
  "language_info": {
   "codemirror_mode": {
    "name": "ipython",
    "version": 3
   },
   "file_extension": ".py",
   "mimetype": "text/x-python",
   "name": "python",
   "nbconvert_exporter": "python",
   "pygments_lexer": "ipython3",
   "version": "3.11.10"
  }
 },
 "nbformat": 4,
 "nbformat_minor": 5
}
