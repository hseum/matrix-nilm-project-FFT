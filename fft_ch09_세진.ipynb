{
 "cells": [
  {
   "cell_type": "code",
   "execution_count": 1,
   "id": "890b14c5",
   "metadata": {},
   "outputs": [],
   "source": [
    "from darts import TimeSeries\n",
    "import pandas as pd"
   ]
  },
  {
   "cell_type": "code",
   "execution_count": 4,
   "id": "8a0fa7dd",
   "metadata": {},
   "outputs": [
    {
     "name": "stdout",
     "output_type": "stream",
     "text": [
      "CSV 저장 완료: H010_ch09_20231002.csv\n"
     ]
    }
   ],
   "source": [
    "import pickle\n",
    "import pandas as pd\n",
    "from darts import TimeSeries\n",
    "\n",
    "# 1. 피클 파일 경로\n",
    "pkl_path = \"matrix-nilm-test/matrix-nilm-test/ts_pickle/H010_ch09_20231002.ts.pkl\"\n",
    "\n",
    "# 2. pickle로 직접 불러오기\n",
    "with open(pkl_path, \"rb\") as f:\n",
    "    ts: TimeSeries = pickle.load(f)\n",
    "\n",
    "# 3. pandas DataFrame으로 변환\n",
    "df = ts.to_dataframe()\n",
    "\n",
    "# 4. CSV로 저장\n",
    "csv_path = \"H010_ch09_20231002.csv\"\n",
    "df.to_csv(csv_path, index=True)\n",
    "\n",
    "print(f\"CSV 저장 완료: {csv_path}\")\n"
   ]
  }
 ],
 "metadata": {
  "kernelspec": {
   "display_name": "vis",
   "language": "python",
   "name": "python3"
  },
  "language_info": {
   "codemirror_mode": {
    "name": "ipython",
    "version": 3
   },
   "file_extension": ".py",
   "mimetype": "text/x-python",
   "name": "python",
   "nbconvert_exporter": "python",
   "pygments_lexer": "ipython3",
   "version": "3.11.10"
  }
 },
 "nbformat": 4,
 "nbformat_minor": 5
}
